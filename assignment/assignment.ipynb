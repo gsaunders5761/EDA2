{
 "cells": [
  {
   "cell_type": "markdown",
   "metadata": {},
   "source": [
    "# Assignment: Exploratory Data Analysis\n",
    "### `! git clone https://github.com/ds4e/EDA`\n",
    "### Do Q1 and two other questions."
   ]
  },
  {
   "cell_type": "markdown",
   "metadata": {},
   "source": [
    "**Q1.** In class, we talked about how to compute the sample mean of a variable $X$,\n",
    "$$\n",
    "m(X) = \\dfrac{1}{N} \\sum_{i=1}^N x_i\n",
    "$$\n",
    "and sample covariance of two variables $X$ and $Y$,\n",
    "$$\n",
    "\\text{cov}(X,Y) = \\dfrac{1}{N} \\sum_{i=1}^N (x_i - m(X))(y_i - m(Y))).\n",
    "$$\n",
    "Recall, the sample variance of $X$ is\n",
    "$$\n",
    "s^2 = \\dfrac{1}{N} \\sum_{i=1}^N (x_i - m(X))^2.\n",
    "$$\n",
    "It can be very helpful to understand some basic properties of these statistics. If you want to write your calculations on a piece of paper, take a photo, and upload that to your GitHub repo, that's probably easiest.\n",
    "\n",
    "1. Show that $m(a + bX) = a+b \\times m(X)$.\n",
    "2. Show that $\\text{cov}(X,a+bY) = b \\times \\text{cov}(X,Y)$\n",
    "3. Show that $\\text{cov}(a+bX,a+bX) = b^2 \\text{cov}(X,X) $, and in particular that $\\text{cov}(X,X) = s^2 $.\n",
    "4. Instead of the mean, consider the median. Consider transformations that are non-decreasing (if $x\\ge x'$, then $g(x)\\ge g(x')$), like $2+5 \\times X$ or $\\text{arcsinh}(X)$. Is a non-decreasing transformation of the median the median of the transformed variable? Explain. Does your answer apply to any quantile? The IQR? The range? \n",
    "5. Consider a non-decreasing transformation $g()$. Is is always true that $m(g(X))= g(m(X))$?"
   ]
  },
  {
   "cell_type": "markdown",
   "metadata": {},
   "source": [
    "**Q2.** This question looks at financial transfers from foreign entities to American universities. In particular, from which countries and giftors are the gifts coming from, and to which institutions are they going? For this question, `.groupby([vars]).count()` and `.groupby([vars]).sum()` will be especially useful to tally the number of occurrences and sum the values of those occurrences.\n",
    "\n",
    "1. Load the `./data/ForeignGifts_edu.csv` dataset.\n"
   ]
  },
  {
   "cell_type": "code",
   "execution_count": 1,
   "metadata": {},
   "outputs": [
    {
     "name": "stdout",
     "output_type": "stream",
     "text": [
      "/Users/gracesaunders/Documents/GitHub/EDA2/.venv/bin/python\n"
     ]
    }
   ],
   "source": [
    "import sys\n",
    "print(sys.executable)"
   ]
  },
  {
   "cell_type": "code",
   "execution_count": 10,
   "metadata": {},
   "outputs": [],
   "source": [
    "import numpy as np\n",
    "import pandas as pd\n",
    "import matplotlib.pyplot as plt"
   ]
  },
  {
   "cell_type": "code",
   "execution_count": 5,
   "metadata": {},
   "outputs": [
    {
     "data": {
      "text/html": [
       "<div>\n",
       "<style scoped>\n",
       "    .dataframe tbody tr th:only-of-type {\n",
       "        vertical-align: middle;\n",
       "    }\n",
       "\n",
       "    .dataframe tbody tr th {\n",
       "        vertical-align: top;\n",
       "    }\n",
       "\n",
       "    .dataframe thead th {\n",
       "        text-align: right;\n",
       "    }\n",
       "</style>\n",
       "<table border=\"1\" class=\"dataframe\">\n",
       "  <thead>\n",
       "    <tr style=\"text-align: right;\">\n",
       "      <th></th>\n",
       "      <th>ID</th>\n",
       "      <th>OPEID</th>\n",
       "      <th>Institution Name</th>\n",
       "      <th>City</th>\n",
       "      <th>State</th>\n",
       "      <th>Foreign Gift Received Date</th>\n",
       "      <th>Foreign Gift Amount</th>\n",
       "      <th>Gift Type</th>\n",
       "      <th>Country of Giftor</th>\n",
       "      <th>Giftor Name</th>\n",
       "    </tr>\n",
       "  </thead>\n",
       "  <tbody>\n",
       "    <tr>\n",
       "      <th>0</th>\n",
       "      <td>1</td>\n",
       "      <td>102000</td>\n",
       "      <td>Jacksonville State University</td>\n",
       "      <td>Jacksonville</td>\n",
       "      <td>AL</td>\n",
       "      <td>43738</td>\n",
       "      <td>250000</td>\n",
       "      <td>Monetary Gift</td>\n",
       "      <td>CHINA</td>\n",
       "      <td>NaN</td>\n",
       "    </tr>\n",
       "    <tr>\n",
       "      <th>1</th>\n",
       "      <td>2</td>\n",
       "      <td>104700</td>\n",
       "      <td>Troy University</td>\n",
       "      <td>Troy</td>\n",
       "      <td>AL</td>\n",
       "      <td>43592</td>\n",
       "      <td>463657</td>\n",
       "      <td>Contract</td>\n",
       "      <td>CHINA</td>\n",
       "      <td>Confucius Institute Headquarters</td>\n",
       "    </tr>\n",
       "    <tr>\n",
       "      <th>2</th>\n",
       "      <td>3</td>\n",
       "      <td>105100</td>\n",
       "      <td>University of Alabama</td>\n",
       "      <td>Tuscaloosa</td>\n",
       "      <td>AL</td>\n",
       "      <td>43466</td>\n",
       "      <td>3649107</td>\n",
       "      <td>Contract</td>\n",
       "      <td>ENGLAND</td>\n",
       "      <td>Springer Nature Customer Service Ce</td>\n",
       "    </tr>\n",
       "    <tr>\n",
       "      <th>3</th>\n",
       "      <td>4</td>\n",
       "      <td>105100</td>\n",
       "      <td>University of Alabama</td>\n",
       "      <td>Tuscaloosa</td>\n",
       "      <td>AL</td>\n",
       "      <td>43472</td>\n",
       "      <td>1000</td>\n",
       "      <td>Contract</td>\n",
       "      <td>SAUDI ARABIA</td>\n",
       "      <td>Saudi Arabia Education Mission</td>\n",
       "    </tr>\n",
       "    <tr>\n",
       "      <th>4</th>\n",
       "      <td>5</td>\n",
       "      <td>105100</td>\n",
       "      <td>University of Alabama</td>\n",
       "      <td>Tuscaloosa</td>\n",
       "      <td>AL</td>\n",
       "      <td>43479</td>\n",
       "      <td>49476</td>\n",
       "      <td>Contract</td>\n",
       "      <td>SAUDI ARABIA</td>\n",
       "      <td>Saudi Arabia Education Mission</td>\n",
       "    </tr>\n",
       "  </tbody>\n",
       "</table>\n",
       "</div>"
      ],
      "text/plain": [
       "   ID   OPEID               Institution Name          City State  \\\n",
       "0   1  102000  Jacksonville State University  Jacksonville    AL   \n",
       "1   2  104700                Troy University          Troy    AL   \n",
       "2   3  105100          University of Alabama    Tuscaloosa    AL   \n",
       "3   4  105100          University of Alabama    Tuscaloosa    AL   \n",
       "4   5  105100          University of Alabama    Tuscaloosa    AL   \n",
       "\n",
       "   Foreign Gift Received Date  Foreign Gift Amount      Gift Type  \\\n",
       "0                       43738               250000  Monetary Gift   \n",
       "1                       43592               463657       Contract   \n",
       "2                       43466              3649107       Contract   \n",
       "3                       43472                 1000       Contract   \n",
       "4                       43479                49476       Contract   \n",
       "\n",
       "  Country of Giftor                          Giftor Name  \n",
       "0             CHINA                                  NaN  \n",
       "1             CHINA     Confucius Institute Headquarters  \n",
       "2           ENGLAND  Springer Nature Customer Service Ce  \n",
       "3      SAUDI ARABIA       Saudi Arabia Education Mission  \n",
       "4      SAUDI ARABIA       Saudi Arabia Education Mission  "
      ]
     },
     "execution_count": 5,
     "metadata": {},
     "output_type": "execute_result"
    }
   ],
   "source": [
    "fg = pd.read_csv('/Users/gracesaunders/Documents/GitHub/EDA2/assignment/data/ForeignGifts_edu.csv')\n",
    "fg.head()"
   ]
  },
  {
   "cell_type": "markdown",
   "metadata": {},
   "source": [
    "2. For `Foreign Gift Amount`, create a histogram and describe the variable. Describe your findings.\n"
   ]
  },
  {
   "cell_type": "code",
   "execution_count": 13,
   "metadata": {},
   "outputs": [
    {
     "data": {
      "text/plain": [
       "count      28221.00\n",
       "mean      588232.72\n",
       "std      3222011.43\n",
       "min      -537770.00\n",
       "25%         5700.00\n",
       "50%        94615.00\n",
       "75%       376142.00\n",
       "max     99999999.00\n",
       "Name: Foreign Gift Amount, dtype: float64"
      ]
     },
     "execution_count": 13,
     "metadata": {},
     "output_type": "execute_result"
    }
   ],
   "source": [
    "#pd.set_option('display.float_format', '{:.2f}'.format)\n",
    "fg['Foreign Gift Amount'].describe()"
   ]
  },
  {
   "cell_type": "code",
   "execution_count": 11,
   "metadata": {},
   "outputs": [
    {
     "data": {
      "image/png": "[encoded data removed]",
      "text/plain": [
       "<Figure size 640x480 with 1 Axes>"
      ]
     },
     "metadata": {},
     "output_type": "display_data"
    },
    {
     "data": {
      "text/html": [
       "<div>\n",
       "<style scoped>\n",
       "    .dataframe tbody tr th:only-of-type {\n",
       "        vertical-align: middle;\n",
       "    }\n",
       "\n",
       "    .dataframe tbody tr th {\n",
       "        vertical-align: top;\n",
       "    }\n",
       "\n",
       "    .dataframe thead th {\n",
       "        text-align: right;\n",
       "    }\n",
       "</style>\n",
       "<table border=\"1\" class=\"dataframe\">\n",
       "  <thead>\n",
       "    <tr style=\"text-align: right;\">\n",
       "      <th></th>\n",
       "      <th>ID</th>\n",
       "      <th>OPEID</th>\n",
       "      <th>Institution Name</th>\n",
       "      <th>City</th>\n",
       "      <th>State</th>\n",
       "      <th>Foreign Gift Received Date</th>\n",
       "      <th>Foreign Gift Amount</th>\n",
       "      <th>Gift Type</th>\n",
       "      <th>Country of Giftor</th>\n",
       "      <th>Giftor Name</th>\n",
       "    </tr>\n",
       "  </thead>\n",
       "  <tbody>\n",
       "    <tr>\n",
       "      <th>0</th>\n",
       "      <td>1</td>\n",
       "      <td>102000</td>\n",
       "      <td>Jacksonville State University</td>\n",
       "      <td>Jacksonville</td>\n",
       "      <td>AL</td>\n",
       "      <td>43738</td>\n",
       "      <td>250000</td>\n",
       "      <td>Monetary Gift</td>\n",
       "      <td>CHINA</td>\n",
       "      <td>NaN</td>\n",
       "    </tr>\n",
       "    <tr>\n",
       "      <th>1</th>\n",
       "      <td>2</td>\n",
       "      <td>104700</td>\n",
       "      <td>Troy University</td>\n",
       "      <td>Troy</td>\n",
       "      <td>AL</td>\n",
       "      <td>43592</td>\n",
       "      <td>463657</td>\n",
       "      <td>Contract</td>\n",
       "      <td>CHINA</td>\n",
       "      <td>Confucius Institute Headquarters</td>\n",
       "    </tr>\n",
       "    <tr>\n",
       "      <th>2</th>\n",
       "      <td>3</td>\n",
       "      <td>105100</td>\n",
       "      <td>University of Alabama</td>\n",
       "      <td>Tuscaloosa</td>\n",
       "      <td>AL</td>\n",
       "      <td>43466</td>\n",
       "      <td>3649107</td>\n",
       "      <td>Contract</td>\n",
       "      <td>ENGLAND</td>\n",
       "      <td>Springer Nature Customer Service Ce</td>\n",
       "    </tr>\n",
       "    <tr>\n",
       "      <th>3</th>\n",
       "      <td>4</td>\n",
       "      <td>105100</td>\n",
       "      <td>University of Alabama</td>\n",
       "      <td>Tuscaloosa</td>\n",
       "      <td>AL</td>\n",
       "      <td>43472</td>\n",
       "      <td>1000</td>\n",
       "      <td>Contract</td>\n",
       "      <td>SAUDI ARABIA</td>\n",
       "      <td>Saudi Arabia Education Mission</td>\n",
       "    </tr>\n",
       "    <tr>\n",
       "      <th>4</th>\n",
       "      <td>5</td>\n",
       "      <td>105100</td>\n",
       "      <td>University of Alabama</td>\n",
       "      <td>Tuscaloosa</td>\n",
       "      <td>AL</td>\n",
       "      <td>43479</td>\n",
       "      <td>49476</td>\n",
       "      <td>Contract</td>\n",
       "      <td>SAUDI ARABIA</td>\n",
       "      <td>Saudi Arabia Education Mission</td>\n",
       "    </tr>\n",
       "    <tr>\n",
       "      <th>...</th>\n",
       "      <td>...</td>\n",
       "      <td>...</td>\n",
       "      <td>...</td>\n",
       "      <td>...</td>\n",
       "      <td>...</td>\n",
       "      <td>...</td>\n",
       "      <td>...</td>\n",
       "      <td>...</td>\n",
       "      <td>...</td>\n",
       "      <td>...</td>\n",
       "    </tr>\n",
       "    <tr>\n",
       "      <th>28216</th>\n",
       "      <td>28217</td>\n",
       "      <td>4279700</td>\n",
       "      <td>Albert Einstein College of Medicine</td>\n",
       "      <td>Bronx</td>\n",
       "      <td>NY</td>\n",
       "      <td>42704</td>\n",
       "      <td>381717</td>\n",
       "      <td>Contract</td>\n",
       "      <td>CHINA</td>\n",
       "      <td>Chia Tai TianQing Pharmaceutical Gr</td>\n",
       "    </tr>\n",
       "    <tr>\n",
       "      <th>28217</th>\n",
       "      <td>28218</td>\n",
       "      <td>4279700</td>\n",
       "      <td>Albert Einstein College of Medicine</td>\n",
       "      <td>Bronx</td>\n",
       "      <td>NY</td>\n",
       "      <td>42778</td>\n",
       "      <td>444938</td>\n",
       "      <td>Contract</td>\n",
       "      <td>ISRAEL</td>\n",
       "      <td>BL Oncology Ltd</td>\n",
       "    </tr>\n",
       "    <tr>\n",
       "      <th>28218</th>\n",
       "      <td>28219</td>\n",
       "      <td>4279700</td>\n",
       "      <td>Albert Einstein College of Medicine</td>\n",
       "      <td>Bronx</td>\n",
       "      <td>NY</td>\n",
       "      <td>42907</td>\n",
       "      <td>1064580</td>\n",
       "      <td>Contract</td>\n",
       "      <td>ENGLAND</td>\n",
       "      <td>Roche Products Limited</td>\n",
       "    </tr>\n",
       "    <tr>\n",
       "      <th>28219</th>\n",
       "      <td>28220</td>\n",
       "      <td>4279700</td>\n",
       "      <td>Albert Einstein College of Medicine</td>\n",
       "      <td>Bronx</td>\n",
       "      <td>NY</td>\n",
       "      <td>42948</td>\n",
       "      <td>737375</td>\n",
       "      <td>Contract</td>\n",
       "      <td>SWITZERLAND</td>\n",
       "      <td>F Hoffman-La Roche Ltd</td>\n",
       "    </tr>\n",
       "    <tr>\n",
       "      <th>28220</th>\n",
       "      <td>28221</td>\n",
       "      <td>4279700</td>\n",
       "      <td>Albert Einstein College of Medicine</td>\n",
       "      <td>Bronx</td>\n",
       "      <td>NY</td>\n",
       "      <td>43692</td>\n",
       "      <td>1024469</td>\n",
       "      <td>Monetary Gift</td>\n",
       "      <td>ISRAEL</td>\n",
       "      <td>Estate of Alfred Gertrud Sommerguth</td>\n",
       "    </tr>\n",
       "  </tbody>\n",
       "</table>\n",
       "<p>28221 rows × 10 columns</p>\n",
       "</div>"
      ],
      "text/plain": [
       "          ID    OPEID                     Institution Name          City  \\\n",
       "0          1   102000        Jacksonville State University  Jacksonville   \n",
       "1          2   104700                      Troy University          Troy   \n",
       "2          3   105100                University of Alabama    Tuscaloosa   \n",
       "3          4   105100                University of Alabama    Tuscaloosa   \n",
       "4          5   105100                University of Alabama    Tuscaloosa   \n",
       "...      ...      ...                                  ...           ...   \n",
       "28216  28217  4279700  Albert Einstein College of Medicine         Bronx   \n",
       "28217  28218  4279700  Albert Einstein College of Medicine         Bronx   \n",
       "28218  28219  4279700  Albert Einstein College of Medicine         Bronx   \n",
       "28219  28220  4279700  Albert Einstein College of Medicine         Bronx   \n",
       "28220  28221  4279700  Albert Einstein College of Medicine         Bronx   \n",
       "\n",
       "      State  Foreign Gift Received Date  Foreign Gift Amount      Gift Type  \\\n",
       "0        AL                       43738               250000  Monetary Gift   \n",
       "1        AL                       43592               463657       Contract   \n",
       "2        AL                       43466              3649107       Contract   \n",
       "3        AL                       43472                 1000       Contract   \n",
       "4        AL                       43479                49476       Contract   \n",
       "...     ...                         ...                  ...            ...   \n",
       "28216    NY                       42704               381717       Contract   \n",
       "28217    NY                       42778               444938       Contract   \n",
       "28218    NY                       42907              1064580       Contract   \n",
       "28219    NY                       42948               737375       Contract   \n",
       "28220    NY                       43692              1024469  Monetary Gift   \n",
       "\n",
       "      Country of Giftor                          Giftor Name  \n",
       "0                 CHINA                                  NaN  \n",
       "1                 CHINA     Confucius Institute Headquarters  \n",
       "2               ENGLAND  Springer Nature Customer Service Ce  \n",
       "3          SAUDI ARABIA       Saudi Arabia Education Mission  \n",
       "4          SAUDI ARABIA       Saudi Arabia Education Mission  \n",
       "...                 ...                                  ...  \n",
       "28216             CHINA  Chia Tai TianQing Pharmaceutical Gr  \n",
       "28217            ISRAEL                      BL Oncology Ltd  \n",
       "28218           ENGLAND               Roche Products Limited  \n",
       "28219       SWITZERLAND               F Hoffman-La Roche Ltd  \n",
       "28220            ISRAEL  Estate of Alfred Gertrud Sommerguth  \n",
       "\n",
       "[28221 rows x 10 columns]"
      ]
     },
     "execution_count": 11,
     "metadata": {},
     "output_type": "execute_result"
    }
   ],
   "source": [
    "fg['Foreign Gift Amount'].hist(bins=100)\n",
    "plt.ticklabel_format(style='plain', axis='x')\n",
    "plt.show()"
   ]
  },
  {
   "cell_type": "markdown",
   "metadata": {},
   "source": [
    "Not very useful histogram because of the long tail, so I made an arcsinh() one too to see the distribution better (not log, because it would've removed the negatives, although maybe that's good? some weird values for min & max)"
   ]
  },
  {
   "cell_type": "code",
   "execution_count": 19,
   "metadata": {},
   "outputs": [
    {
     "data": {
      "text/plain": [
       "<Axes: >"
      ]
     },
     "execution_count": 19,
     "metadata": {},
     "output_type": "execute_result"
    },
    {
     "data": {
      "image/png": "[encoded data removed]",
      "text/plain": [
       "<Figure size 640x480 with 1 Axes>"
      ]
     },
     "metadata": {},
     "output_type": "display_data"
    }
   ],
   "source": [
    "fg['amount_arcsinh'] = np.arcsinh(fg['Foreign Gift Amount'])\n",
    "fg['amount_arcsinh'].hist(bins=20,grid=False) "
   ]
  },
  {
   "cell_type": "markdown",
   "metadata": {},
   "source": [
    "3. For `Gift Type`, create a histogram or value counts table. What proportion of the gifts are contracts, real estate, and monetary gifts?\n"
   ]
  },
  {
   "cell_type": "code",
   "execution_count": 25,
   "metadata": {},
   "outputs": [
    {
     "data": {
      "text/plain": [
       "Gift Type\n",
       "Contract         17274\n",
       "Monetary Gift    10936\n",
       "Real Estate         11\n",
       "Name: count, dtype: int64"
      ]
     },
     "execution_count": 25,
     "metadata": {},
     "output_type": "execute_result"
    }
   ],
   "source": [
    "fg['Gift Type'].value_counts()"
   ]
  },
  {
   "cell_type": "code",
   "execution_count": 26,
   "metadata": {},
   "outputs": [
    {
     "data": {
      "text/plain": [
       "Gift Type\n",
       "Contract        61.21\n",
       "Monetary Gift   38.75\n",
       "Real Estate      0.04\n",
       "Name: count, dtype: float64"
      ]
     },
     "execution_count": 26,
     "metadata": {},
     "output_type": "execute_result"
    }
   ],
   "source": [
    "def proportion(x):\n",
    "    return x/fg['Gift Type'].count() * 100\n",
    "fg['Gift Type'].value_counts().apply(proportion)"
   ]
  },
  {
   "cell_type": "markdown",
   "metadata": {},
   "source": [
    "4. Create a kernel density plot of the log of `Foreign Gift Amount`, and then a kernel density plot of the log of `Foreign Gift Amount` conditional on gift type. Do you notice any patterns?\n"
   ]
  },
  {
   "cell_type": "code",
   "execution_count": 28,
   "metadata": {},
   "outputs": [],
   "source": [
    "import seaborn as sns"
   ]
  },
  {
   "cell_type": "code",
   "execution_count": 32,
   "metadata": {},
   "outputs": [
    {
     "data": {
      "text/plain": [
       "<Axes: xlabel='amount_log', ylabel='Density'>"
      ]
     },
     "execution_count": 32,
     "metadata": {},
     "output_type": "execute_result"
    },
    {
     "data": {
      "image/png": "[encoded data removed]",
      "text/plain": [
       "<Figure size 640x480 with 1 Axes>"
      ]
     },
     "metadata": {},
     "output_type": "display_data"
    }
   ],
   "source": [
    "fg['amount_log'] = fg['Foreign Gift Amount'].apply(np.log)\n",
    "sns.kdeplot(fg['amount_log'], fill=True)"
   ]
  },
  {
   "cell_type": "code",
   "execution_count": 33,
   "metadata": {},
   "outputs": [
    {
     "data": {
      "text/plain": [
       "[Text(0.5, 1.0, 'Foreign Gift Amount (log) by Gift Type')]"
      ]
     },
     "execution_count": 33,
     "metadata": {},
     "output_type": "execute_result"
    },
    {
     "data": {
      "image/png": "[encoded data removed]",
      "text/plain": [
       "<Figure size 640x480 with 1 Axes>"
      ]
     },
     "metadata": {},
     "output_type": "display_data"
    }
   ],
   "source": [
    "conditioning = 'Gift Type'\n",
    "var = 'amount_log' \n",
    "sns.kdeplot( data=fg, x=var, hue=conditioning, common_norm=False).set(title='Foreign Gift Amount (log) by Gift Type')"
   ]
  },
  {
   "cell_type": "markdown",
   "metadata": {},
   "source": [
    "The aggregate plot has a small peak and then a main peak a little below 15, but the grouped plot shows the different trends in amounts by gift types, where monetary gifts account for small peak while real estate and contracts account for most of the larger peak. "
   ]
  },
  {
   "cell_type": "markdown",
   "metadata": {},
   "source": [
    "5. What are the top 15 countries in terms of the number of gifts? What are the top 15 countries in terms of the amount given?\n"
   ]
  },
  {
   "cell_type": "code",
   "execution_count": 35,
   "metadata": {},
   "outputs": [
    {
     "data": {
      "text/plain": [
       "Country of Giftor\n",
       "ENGLAND            3655\n",
       "CHINA              2461\n",
       "CANADA             2344\n",
       "JAPAN              1896\n",
       "SWITZERLAND        1676\n",
       "SAUDI ARABIA       1610\n",
       "FRANCE             1437\n",
       "GERMANY            1394\n",
       "HONG KONG          1080\n",
       "SOUTH KOREA         811\n",
       "QATAR               693\n",
       "THE NETHERLANDS     512\n",
       "KOREA               452\n",
       "INDIA               434\n",
       "TAIWAN              381\n",
       "Name: count, dtype: int64"
      ]
     },
     "execution_count": 35,
     "metadata": {},
     "output_type": "execute_result"
    }
   ],
   "source": [
    "fg['Country of Giftor'].value_counts().head(15)"
   ]
  },
  {
   "cell_type": "code",
   "execution_count": 36,
   "metadata": {},
   "outputs": [
    {
     "data": {
      "text/plain": [
       "Country of Giftor\n",
       "QATAR                   2706240869\n",
       "ENGLAND                 1464906771\n",
       "CHINA                   1237952112\n",
       "SAUDI ARABIA            1065205930\n",
       "BERMUDA                  899593972\n",
       "CANADA                   898160656\n",
       "HONG KONG                887402529\n",
       "JAPAN                    655954776\n",
       "SWITZERLAND              619899445\n",
       "INDIA                    539556490\n",
       "GERMANY                  442475605\n",
       "UNITED ARAB EMIRATES     431396357\n",
       "FRANCE                   405839396\n",
       "SINGAPORE                401157692\n",
       "AUSTRALIA                248409202\n",
       "Name: Foreign Gift Amount, dtype: int64"
      ]
     },
     "execution_count": 36,
     "metadata": {},
     "output_type": "execute_result"
    }
   ],
   "source": [
    "fg['Foreign Gift Amount'].groupby(fg['Country of Giftor']).sum().sort_values(ascending=False).head(15)"
   ]
  },
  {
   "cell_type": "markdown",
   "metadata": {},
   "source": [
    "6. What are the top 15 institutions in terms of the total amount of money they receive? Make a histogram of the total amount received by all institutions. \n"
   ]
  },
  {
   "cell_type": "code",
   "execution_count": 39,
   "metadata": {},
   "outputs": [
    {
     "data": {
      "text/plain": [
       "Institution Name\n",
       "Carnegie Mellon University                       1477922504\n",
       "Cornell University                               1289937761\n",
       "Harvard University                                954803610\n",
       "Massachusetts Institute of Technology             859071692\n",
       "Yale University                                   613441311\n",
       "Texas A&M University                              521455050\n",
       "Johns Hopkins University                          502409595\n",
       "Northwestern University                           402316221\n",
       "Georgetown University                             379950511\n",
       "University of Chicago (The)                       364544338\n",
       "University of Colorado Boulder                    360173159\n",
       "Duke University                                   343699498\n",
       "Brigham Young University                          323509863\n",
       "Stanford University                               319561362\n",
       "University of Texas MD Anderson Cancer Center     301527419\n",
       "Name: Foreign Gift Amount, dtype: int64"
      ]
     },
     "execution_count": 39,
     "metadata": {},
     "output_type": "execute_result"
    }
   ],
   "source": [
    "fg['Foreign Gift Amount'].groupby(fg['Institution Name']).sum().sort_values(ascending=False).head(15)"
   ]
  },
  {
   "cell_type": "code",
   "execution_count": 42,
   "metadata": {},
   "outputs": [
    {
     "data": {
      "text/plain": [
       "<Axes: >"
      ]
     },
     "execution_count": 42,
     "metadata": {},
     "output_type": "execute_result"
    },
    {
     "data": {
      "image/png": "[encoded data removed]",
      "text/plain": [
       "<Figure size 640x480 with 1 Axes>"
      ]
     },
     "metadata": {},
     "output_type": "display_data"
    }
   ],
   "source": [
    "fg['Foreign Gift Amount'].groupby(fg['Institution Name']).sum().hist(bins=100)"
   ]
  },
  {
   "cell_type": "markdown",
   "metadata": {},
   "source": [
    "7. Which giftors provide the most money, in total?"
   ]
  },
  {
   "cell_type": "code",
   "execution_count": 43,
   "metadata": {},
   "outputs": [
    {
     "data": {
      "text/plain": [
       "Giftor Name\n",
       "Qatar Foundation                       1166503744\n",
       "Qatar Foundation/Qatar National Res     796197000\n",
       "Qatar Foundation for Education          373945215\n",
       "Anonymous                               338793629\n",
       "Saudi Arabian Cultural Mission          275221475\n",
       "HCL                                     190000000\n",
       "Church of Jesus Christ of LDS           185203715\n",
       "Emirates Institute for Advanced Sc      170641244\n",
       "QIC                                     148355497\n",
       "Anonymous #9                             96334996\n",
       "Qatar National Research Fund             79021705\n",
       "Government of Saudi Arabia               75192434\n",
       "Contracting Party                        69996984\n",
       "CMKL University                          67700000\n",
       "Royal Embassy of Saudi Arabia            67062486\n",
       "Name: Foreign Gift Amount, dtype: int64"
      ]
     },
     "execution_count": 43,
     "metadata": {},
     "output_type": "execute_result"
    }
   ],
   "source": [
    "fg['Foreign Gift Amount'].groupby(fg['Giftor Name']).sum().sort_values(ascending=False).head(15)"
   ]
  },
  {
   "cell_type": "markdown",
   "metadata": {},
   "source": [
    "**Q3.** This question uses the Airbnb data to practice making visualizations.\n",
    "\n",
    "  1. Load the `./data/airbnb_hw.csv` data with Pandas. This provides a dataset of AirBnB rental properties for New York City.  \n",
    "  2. What are are the dimensions of the data? How many observations are there? What are the variables included? Use `.head()` to examine the first few rows of data.\n",
    "  3. Cross tabulate `Room Type` and `Property Type`. What patterns do you see in what kinds of rentals are available? For which kinds of properties are private rooms more common than renting the entire property?\n",
    "  4. For `Price`, make a histogram, kernel density, box plot, and a statistical description of the variable. Are the data badly scaled? Are there many outliers? Use `log` to transform price into a new variable, `price_log`, and take these steps again.\n",
    "  5. Make a scatterplot of `price_log` and `Beds`. Describe what you see. Use `.groupby()` to compute a desciption of `Price` conditional on/grouped by the number of beds. Describe any patterns you see in the average price and standard deviation in prices.\n",
    "  6. Make a scatterplot of `price_log` and `Beds`, but color the graph by `Room Type` and `Property Type`. What patterns do you see? Compute a description of `Price` conditional on `Room Type` and `Property Type`. Which Room Type and Property Type have the highest prices on average? Which have the highest standard deviation? Does the mean or median appear to be a more reliable estimate of central tendency, and explain why?\n",
    "  7. We've looked a bit at this `price_log` and `Beds` scatterplot. Use seaborn to make a `jointplot` with `kind=hex`. Where are the data actually distributed? How does it affect the way you think about the plots in 5 and 6?"
   ]
  },
  {
   "cell_type": "markdown",
   "metadata": {},
   "source": [
    "**Q4.** This question looks at a time series of the number of active oil drilling rigs in the United States over time. The data comes from the Energy Information Agency.\n",
    "\n",
    "1. Load `./data/drilling_rigs.csv` and examine the data. How many observations? How many variables? Are numeric variables correctly read in by Pandas, or will some variables have to be typecast/coerced? Explain clearly how these data need to be cleaned.\n"
   ]
  },
  {
   "cell_type": "code",
   "execution_count": 44,
   "metadata": {},
   "outputs": [],
   "source": [
    "dr = pd.read_csv('/Users/gracesaunders/Documents/GitHub/EDA2/assignment/data/drilling_rigs.csv')"
   ]
  },
  {
   "cell_type": "code",
   "execution_count": 48,
   "metadata": {},
   "outputs": [
    {
     "name": "stdout",
     "output_type": "stream",
     "text": [
      "<class 'pandas.core.frame.DataFrame'>\n",
      "RangeIndex: 623 entries, 0 to 622\n",
      "Data columns (total 10 columns):\n",
      " #   Column                                                                                       Non-Null Count  Dtype \n",
      "---  ------                                                                                       --------------  ----- \n",
      " 0   Month                                                                                        623 non-null    object\n",
      " 1   Crude Oil and Natural Gas Rotary Rigs in Operation, Onshore (Number of Rigs)                 623 non-null    int64 \n",
      " 2   Crude Oil and Natural Gas Rotary Rigs in Operation, Offshore (Number of Rigs)                623 non-null    int64 \n",
      " 3   Crude Oil Rotary Rigs in Operation, Total (Number of Rigs)                                   623 non-null    object\n",
      " 4   Natural Gas Rotary Rigs in Operation, Total (Number of Rigs)                                 623 non-null    object\n",
      " 5   Crude Oil and Natural Gas Rotary Rigs in Operation, Horizontal Trajectory (Number of Rigs)   623 non-null    object\n",
      " 6   Crude Oil and Natural Gas Rotary Rigs in Operation, Directional Trajectory (Number of Rigs)  623 non-null    object\n",
      " 7   Crude Oil and Natural Gas Rotary Rigs in Operation, Vertical Trajectory (Number of Rigs)     623 non-null    object\n",
      " 8   Crude Oil and Natural Gas Rotary Rigs in Operation, Total (Number of Rigs)                   623 non-null    int64 \n",
      " 9   Active Well Service Rig Count (Number of Rigs)                                               623 non-null    object\n",
      "dtypes: int64(3), object(7)\n",
      "memory usage: 48.8+ KB\n"
     ]
    }
   ],
   "source": [
    "dr.info()"
   ]
  },
  {
   "cell_type": "code",
   "execution_count": 49,
   "metadata": {},
   "outputs": [
    {
     "data": {
      "text/html": [
       "<div>\n",
       "<style scoped>\n",
       "    .dataframe tbody tr th:only-of-type {\n",
       "        vertical-align: middle;\n",
       "    }\n",
       "\n",
       "    .dataframe tbody tr th {\n",
       "        vertical-align: top;\n",
       "    }\n",
       "\n",
       "    .dataframe thead th {\n",
       "        text-align: right;\n",
       "    }\n",
       "</style>\n",
       "<table border=\"1\" class=\"dataframe\">\n",
       "  <thead>\n",
       "    <tr style=\"text-align: right;\">\n",
       "      <th></th>\n",
       "      <th>Crude Oil and Natural Gas Rotary Rigs in Operation, Onshore (Number of Rigs)</th>\n",
       "      <th>Crude Oil and Natural Gas Rotary Rigs in Operation, Offshore (Number of Rigs)</th>\n",
       "      <th>Crude Oil and Natural Gas Rotary Rigs in Operation, Total (Number of Rigs)</th>\n",
       "    </tr>\n",
       "  </thead>\n",
       "  <tbody>\n",
       "    <tr>\n",
       "      <th>count</th>\n",
       "      <td>623.00</td>\n",
       "      <td>623.00</td>\n",
       "      <td>623.00</td>\n",
       "    </tr>\n",
       "    <tr>\n",
       "      <th>mean</th>\n",
       "      <td>1246.05</td>\n",
       "      <td>98.94</td>\n",
       "      <td>1344.98</td>\n",
       "    </tr>\n",
       "    <tr>\n",
       "      <th>std</th>\n",
       "      <td>700.53</td>\n",
       "      <td>65.05</td>\n",
       "      <td>744.19</td>\n",
       "    </tr>\n",
       "    <tr>\n",
       "      <th>min</th>\n",
       "      <td>237.00</td>\n",
       "      <td>6.00</td>\n",
       "      <td>250.00</td>\n",
       "    </tr>\n",
       "    <tr>\n",
       "      <th>25%</th>\n",
       "      <td>725.50</td>\n",
       "      <td>48.50</td>\n",
       "      <td>795.50</td>\n",
       "    </tr>\n",
       "    <tr>\n",
       "      <th>50%</th>\n",
       "      <td>995.00</td>\n",
       "      <td>95.00</td>\n",
       "      <td>1068.00</td>\n",
       "    </tr>\n",
       "    <tr>\n",
       "      <th>75%</th>\n",
       "      <td>1707.50</td>\n",
       "      <td>125.00</td>\n",
       "      <td>1783.50</td>\n",
       "    </tr>\n",
       "    <tr>\n",
       "      <th>max</th>\n",
       "      <td>4238.00</td>\n",
       "      <td>283.00</td>\n",
       "      <td>4521.00</td>\n",
       "    </tr>\n",
       "  </tbody>\n",
       "</table>\n",
       "</div>"
      ],
      "text/plain": [
       "       Crude Oil and Natural Gas Rotary Rigs in Operation, Onshore (Number of Rigs)  \\\n",
       "count                                             623.00                              \n",
       "mean                                             1246.05                              \n",
       "std                                               700.53                              \n",
       "min                                               237.00                              \n",
       "25%                                               725.50                              \n",
       "50%                                               995.00                              \n",
       "75%                                              1707.50                              \n",
       "max                                              4238.00                              \n",
       "\n",
       "       Crude Oil and Natural Gas Rotary Rigs in Operation, Offshore (Number of Rigs)  \\\n",
       "count                                             623.00                               \n",
       "mean                                               98.94                               \n",
       "std                                                65.05                               \n",
       "min                                                 6.00                               \n",
       "25%                                                48.50                               \n",
       "50%                                                95.00                               \n",
       "75%                                               125.00                               \n",
       "max                                               283.00                               \n",
       "\n",
       "       Crude Oil and Natural Gas Rotary Rigs in Operation, Total (Number of Rigs)  \n",
       "count                                             623.00                           \n",
       "mean                                             1344.98                           \n",
       "std                                               744.19                           \n",
       "min                                               250.00                           \n",
       "25%                                               795.50                           \n",
       "50%                                              1068.00                           \n",
       "75%                                              1783.50                           \n",
       "max                                              4521.00                           "
      ]
     },
     "execution_count": 49,
     "metadata": {},
     "output_type": "execute_result"
    }
   ],
   "source": [
    "dr.describe()"
   ]
  },
  {
   "cell_type": "code",
   "execution_count": 50,
   "metadata": {},
   "outputs": [
    {
     "data": {
      "text/html": [
       "<div>\n",
       "<style scoped>\n",
       "    .dataframe tbody tr th:only-of-type {\n",
       "        vertical-align: middle;\n",
       "    }\n",
       "\n",
       "    .dataframe tbody tr th {\n",
       "        vertical-align: top;\n",
       "    }\n",
       "\n",
       "    .dataframe thead th {\n",
       "        text-align: right;\n",
       "    }\n",
       "</style>\n",
       "<table border=\"1\" class=\"dataframe\">\n",
       "  <thead>\n",
       "    <tr style=\"text-align: right;\">\n",
       "      <th></th>\n",
       "      <th>Month</th>\n",
       "      <th>Crude Oil and Natural Gas Rotary Rigs in Operation, Onshore (Number of Rigs)</th>\n",
       "      <th>Crude Oil and Natural Gas Rotary Rigs in Operation, Offshore (Number of Rigs)</th>\n",
       "      <th>Crude Oil Rotary Rigs in Operation, Total (Number of Rigs)</th>\n",
       "      <th>Natural Gas Rotary Rigs in Operation, Total (Number of Rigs)</th>\n",
       "      <th>Crude Oil and Natural Gas Rotary Rigs in Operation, Horizontal Trajectory (Number of Rigs)</th>\n",
       "      <th>Crude Oil and Natural Gas Rotary Rigs in Operation, Directional Trajectory (Number of Rigs)</th>\n",
       "      <th>Crude Oil and Natural Gas Rotary Rigs in Operation, Vertical Trajectory (Number of Rigs)</th>\n",
       "      <th>Crude Oil and Natural Gas Rotary Rigs in Operation, Total (Number of Rigs)</th>\n",
       "      <th>Active Well Service Rig Count (Number of Rigs)</th>\n",
       "    </tr>\n",
       "  </thead>\n",
       "  <tbody>\n",
       "    <tr>\n",
       "      <th>0</th>\n",
       "      <td>1973 January</td>\n",
       "      <td>1120</td>\n",
       "      <td>99</td>\n",
       "      <td>Not Available</td>\n",
       "      <td>Not Available</td>\n",
       "      <td>Not Available</td>\n",
       "      <td>Not Available</td>\n",
       "      <td>Not Available</td>\n",
       "      <td>1219</td>\n",
       "      <td>1549</td>\n",
       "    </tr>\n",
       "    <tr>\n",
       "      <th>1</th>\n",
       "      <td>1973 February</td>\n",
       "      <td>1037</td>\n",
       "      <td>89</td>\n",
       "      <td>Not Available</td>\n",
       "      <td>Not Available</td>\n",
       "      <td>Not Available</td>\n",
       "      <td>Not Available</td>\n",
       "      <td>Not Available</td>\n",
       "      <td>1126</td>\n",
       "      <td>1677</td>\n",
       "    </tr>\n",
       "    <tr>\n",
       "      <th>2</th>\n",
       "      <td>1973 March</td>\n",
       "      <td>959</td>\n",
       "      <td>90</td>\n",
       "      <td>Not Available</td>\n",
       "      <td>Not Available</td>\n",
       "      <td>Not Available</td>\n",
       "      <td>Not Available</td>\n",
       "      <td>Not Available</td>\n",
       "      <td>1049</td>\n",
       "      <td>1805</td>\n",
       "    </tr>\n",
       "    <tr>\n",
       "      <th>3</th>\n",
       "      <td>1973 April</td>\n",
       "      <td>914</td>\n",
       "      <td>79</td>\n",
       "      <td>Not Available</td>\n",
       "      <td>Not Available</td>\n",
       "      <td>Not Available</td>\n",
       "      <td>Not Available</td>\n",
       "      <td>Not Available</td>\n",
       "      <td>993</td>\n",
       "      <td>1898</td>\n",
       "    </tr>\n",
       "    <tr>\n",
       "      <th>4</th>\n",
       "      <td>1973 May</td>\n",
       "      <td>974</td>\n",
       "      <td>72</td>\n",
       "      <td>Not Available</td>\n",
       "      <td>Not Available</td>\n",
       "      <td>Not Available</td>\n",
       "      <td>Not Available</td>\n",
       "      <td>Not Available</td>\n",
       "      <td>1046</td>\n",
       "      <td>1991</td>\n",
       "    </tr>\n",
       "  </tbody>\n",
       "</table>\n",
       "</div>"
      ],
      "text/plain": [
       "           Month  \\\n",
       "0   1973 January   \n",
       "1  1973 February   \n",
       "2     1973 March   \n",
       "3     1973 April   \n",
       "4       1973 May   \n",
       "\n",
       "   Crude Oil and Natural Gas Rotary Rigs in Operation, Onshore (Number of Rigs)  \\\n",
       "0                                               1120                              \n",
       "1                                               1037                              \n",
       "2                                                959                              \n",
       "3                                                914                              \n",
       "4                                                974                              \n",
       "\n",
       "   Crude Oil and Natural Gas Rotary Rigs in Operation, Offshore (Number of Rigs)  \\\n",
       "0                                                 99                               \n",
       "1                                                 89                               \n",
       "2                                                 90                               \n",
       "3                                                 79                               \n",
       "4                                                 72                               \n",
       "\n",
       "  Crude Oil Rotary Rigs in Operation, Total (Number of Rigs)  \\\n",
       "0                                      Not Available           \n",
       "1                                      Not Available           \n",
       "2                                      Not Available           \n",
       "3                                      Not Available           \n",
       "4                                      Not Available           \n",
       "\n",
       "  Natural Gas Rotary Rigs in Operation, Total (Number of Rigs)  \\\n",
       "0                                      Not Available             \n",
       "1                                      Not Available             \n",
       "2                                      Not Available             \n",
       "3                                      Not Available             \n",
       "4                                      Not Available             \n",
       "\n",
       "  Crude Oil and Natural Gas Rotary Rigs in Operation, Horizontal Trajectory (Number of Rigs)  \\\n",
       "0                                      Not Available                                           \n",
       "1                                      Not Available                                           \n",
       "2                                      Not Available                                           \n",
       "3                                      Not Available                                           \n",
       "4                                      Not Available                                           \n",
       "\n",
       "  Crude Oil and Natural Gas Rotary Rigs in Operation, Directional Trajectory (Number of Rigs)  \\\n",
       "0                                      Not Available                                            \n",
       "1                                      Not Available                                            \n",
       "2                                      Not Available                                            \n",
       "3                                      Not Available                                            \n",
       "4                                      Not Available                                            \n",
       "\n",
       "  Crude Oil and Natural Gas Rotary Rigs in Operation, Vertical Trajectory (Number of Rigs)  \\\n",
       "0                                      Not Available                                         \n",
       "1                                      Not Available                                         \n",
       "2                                      Not Available                                         \n",
       "3                                      Not Available                                         \n",
       "4                                      Not Available                                         \n",
       "\n",
       "   Crude Oil and Natural Gas Rotary Rigs in Operation, Total (Number of Rigs)  \\\n",
       "0                                               1219                            \n",
       "1                                               1126                            \n",
       "2                                               1049                            \n",
       "3                                                993                            \n",
       "4                                               1046                            \n",
       "\n",
       "  Active Well Service Rig Count (Number of Rigs)  \n",
       "0                                           1549  \n",
       "1                                           1677  \n",
       "2                                           1805  \n",
       "3                                           1898  \n",
       "4                                           1991  "
      ]
     },
     "execution_count": 50,
     "metadata": {},
     "output_type": "execute_result"
    }
   ],
   "source": [
    "dr.head()"
   ]
  },
  {
   "cell_type": "markdown",
   "metadata": {},
   "source": [
    "It looks like some of the variables that should be numeric are objects instead, that have 'Not Available' instead of NaNs. Variables 0, 3-7, and 9 will need to be typecast. "
   ]
  },
  {
   "cell_type": "code",
   "execution_count": null,
   "metadata": {},
   "outputs": [],
   "source": [
    "v3 = 'Crude Oil Rotary Rigs in Operation, Total (Number of Rigs)'\n",
    "v4 = 'Natural Gas Rotary Rigs in Operation, Total (Number of Rigs)'\n",
    "v5 = 'Crude Oil and Natural Gas Rotary Rigs in Operation, Horizontal Trajectory (Number of Rigs)'\n",
    "v6 = 'Crude Oil and Natural Gas Rotary Rigs in Operation, Directional Trajectory (Number of Rigs)'\n",
    "v7 = 'Crude Oil and Natural Gas Rotary Rigs in Operation, Vertical Trajectory (Number of Rigs)'\n",
    "v9 = 'Active Well Service Rig Count (Number of Rigs)'\n",
    "\n",
    "vars = [v3, v4, v5, v6, v7, v9]\n",
    "\n",
    "def clean_nums(x):\n",
    "    dr[x] = pd.to_numeric(dr[x], errors='coerce')\n",
    "\n",
    "for var in vars:\n",
    "    clean_nums(var)\n"
   ]
  },
  {
   "cell_type": "markdown",
   "metadata": {},
   "source": [
    "2. To convert the `Month` variable to an ordered datetime variable, use `df['time'] = pd.to_datetime(df['Month'], format='mixed')`.\n"
   ]
  },
  {
   "cell_type": "code",
   "execution_count": 58,
   "metadata": {},
   "outputs": [],
   "source": [
    "dr['time'] = pd.to_datetime(dr['Month'], format='mixed')"
   ]
  },
  {
   "cell_type": "code",
   "execution_count": 60,
   "metadata": {},
   "outputs": [
    {
     "data": {
      "text/html": [
       "<div>\n",
       "<style scoped>\n",
       "    .dataframe tbody tr th:only-of-type {\n",
       "        vertical-align: middle;\n",
       "    }\n",
       "\n",
       "    .dataframe tbody tr th {\n",
       "        vertical-align: top;\n",
       "    }\n",
       "\n",
       "    .dataframe thead th {\n",
       "        text-align: right;\n",
       "    }\n",
       "</style>\n",
       "<table border=\"1\" class=\"dataframe\">\n",
       "  <thead>\n",
       "    <tr style=\"text-align: right;\">\n",
       "      <th></th>\n",
       "      <th>Crude Oil and Natural Gas Rotary Rigs in Operation, Onshore (Number of Rigs)</th>\n",
       "      <th>Crude Oil and Natural Gas Rotary Rigs in Operation, Offshore (Number of Rigs)</th>\n",
       "      <th>Crude Oil Rotary Rigs in Operation, Total (Number of Rigs)</th>\n",
       "      <th>Natural Gas Rotary Rigs in Operation, Total (Number of Rigs)</th>\n",
       "      <th>Crude Oil and Natural Gas Rotary Rigs in Operation, Horizontal Trajectory (Number of Rigs)</th>\n",
       "      <th>Crude Oil and Natural Gas Rotary Rigs in Operation, Directional Trajectory (Number of Rigs)</th>\n",
       "      <th>Crude Oil and Natural Gas Rotary Rigs in Operation, Vertical Trajectory (Number of Rigs)</th>\n",
       "      <th>Crude Oil and Natural Gas Rotary Rigs in Operation, Total (Number of Rigs)</th>\n",
       "      <th>Active Well Service Rig Count (Number of Rigs)</th>\n",
       "      <th>time</th>\n",
       "    </tr>\n",
       "  </thead>\n",
       "  <tbody>\n",
       "    <tr>\n",
       "      <th>count</th>\n",
       "      <td>623.00</td>\n",
       "      <td>623.00</td>\n",
       "      <td>448.00</td>\n",
       "      <td>448.00</td>\n",
       "      <td>407.00</td>\n",
       "      <td>407.00</td>\n",
       "      <td>407.00</td>\n",
       "      <td>623.00</td>\n",
       "      <td>591.00</td>\n",
       "      <td>623</td>\n",
       "    </tr>\n",
       "    <tr>\n",
       "      <th>mean</th>\n",
       "      <td>1246.05</td>\n",
       "      <td>98.94</td>\n",
       "      <td>500.43</td>\n",
       "      <td>546.19</td>\n",
       "      <td>423.33</td>\n",
       "      <td>174.65</td>\n",
       "      <td>465.09</td>\n",
       "      <td>1344.98</td>\n",
       "      <td>2627.98</td>\n",
       "      <td>1998-11-30 23:43:49.213483136</td>\n",
       "    </tr>\n",
       "    <tr>\n",
       "      <th>min</th>\n",
       "      <td>237.00</td>\n",
       "      <td>6.00</td>\n",
       "      <td>108.00</td>\n",
       "      <td>70.00</td>\n",
       "      <td>30.00</td>\n",
       "      <td>15.00</td>\n",
       "      <td>9.00</td>\n",
       "      <td>250.00</td>\n",
       "      <td>456.00</td>\n",
       "      <td>1973-01-01 00:00:00</td>\n",
       "    </tr>\n",
       "    <tr>\n",
       "      <th>25%</th>\n",
       "      <td>725.50</td>\n",
       "      <td>48.50</td>\n",
       "      <td>271.75</td>\n",
       "      <td>214.25</td>\n",
       "      <td>62.00</td>\n",
       "      <td>72.00</td>\n",
       "      <td>72.50</td>\n",
       "      <td>795.50</td>\n",
       "      <td>1994.00</td>\n",
       "      <td>1985-12-16 12:00:00</td>\n",
       "    </tr>\n",
       "    <tr>\n",
       "      <th>50%</th>\n",
       "      <td>995.00</td>\n",
       "      <td>95.00</td>\n",
       "      <td>397.00</td>\n",
       "      <td>425.00</td>\n",
       "      <td>335.00</td>\n",
       "      <td>174.00</td>\n",
       "      <td>528.00</td>\n",
       "      <td>1068.00</td>\n",
       "      <td>2549.00</td>\n",
       "      <td>1998-12-01 00:00:00</td>\n",
       "    </tr>\n",
       "    <tr>\n",
       "      <th>75%</th>\n",
       "      <td>1707.50</td>\n",
       "      <td>125.00</td>\n",
       "      <td>605.25</td>\n",
       "      <td>782.50</td>\n",
       "      <td>696.50</td>\n",
       "      <td>236.50</td>\n",
       "      <td>678.50</td>\n",
       "      <td>1783.50</td>\n",
       "      <td>3340.50</td>\n",
       "      <td>2011-11-16 00:00:00</td>\n",
       "    </tr>\n",
       "    <tr>\n",
       "      <th>max</th>\n",
       "      <td>4238.00</td>\n",
       "      <td>283.00</td>\n",
       "      <td>1593.00</td>\n",
       "      <td>1585.00</td>\n",
       "      <td>1369.00</td>\n",
       "      <td>404.00</td>\n",
       "      <td>1041.00</td>\n",
       "      <td>4521.00</td>\n",
       "      <td>5367.00</td>\n",
       "      <td>2024-11-01 00:00:00</td>\n",
       "    </tr>\n",
       "    <tr>\n",
       "      <th>std</th>\n",
       "      <td>700.53</td>\n",
       "      <td>65.05</td>\n",
       "      <td>346.15</td>\n",
       "      <td>393.43</td>\n",
       "      <td>386.30</td>\n",
       "      <td>106.72</td>\n",
       "      <td>309.19</td>\n",
       "      <td>744.19</td>\n",
       "      <td>1006.08</td>\n",
       "      <td>NaN</td>\n",
       "    </tr>\n",
       "  </tbody>\n",
       "</table>\n",
       "</div>"
      ],
      "text/plain": [
       "       Crude Oil and Natural Gas Rotary Rigs in Operation, Onshore (Number of Rigs)  \\\n",
       "count                                             623.00                              \n",
       "mean                                             1246.05                              \n",
       "min                                               237.00                              \n",
       "25%                                               725.50                              \n",
       "50%                                               995.00                              \n",
       "75%                                              1707.50                              \n",
       "max                                              4238.00                              \n",
       "std                                               700.53                              \n",
       "\n",
       "       Crude Oil and Natural Gas Rotary Rigs in Operation, Offshore (Number of Rigs)  \\\n",
       "count                                             623.00                               \n",
       "mean                                               98.94                               \n",
       "min                                                 6.00                               \n",
       "25%                                                48.50                               \n",
       "50%                                                95.00                               \n",
       "75%                                               125.00                               \n",
       "max                                               283.00                               \n",
       "std                                                65.05                               \n",
       "\n",
       "       Crude Oil Rotary Rigs in Operation, Total (Number of Rigs)  \\\n",
       "count                                             448.00            \n",
       "mean                                              500.43            \n",
       "min                                               108.00            \n",
       "25%                                               271.75            \n",
       "50%                                               397.00            \n",
       "75%                                               605.25            \n",
       "max                                              1593.00            \n",
       "std                                               346.15            \n",
       "\n",
       "       Natural Gas Rotary Rigs in Operation, Total (Number of Rigs)  \\\n",
       "count                                             448.00              \n",
       "mean                                              546.19              \n",
       "min                                                70.00              \n",
       "25%                                               214.25              \n",
       "50%                                               425.00              \n",
       "75%                                               782.50              \n",
       "max                                              1585.00              \n",
       "std                                               393.43              \n",
       "\n",
       "       Crude Oil and Natural Gas Rotary Rigs in Operation, Horizontal Trajectory (Number of Rigs)  \\\n",
       "count                                             407.00                                            \n",
       "mean                                              423.33                                            \n",
       "min                                                30.00                                            \n",
       "25%                                                62.00                                            \n",
       "50%                                               335.00                                            \n",
       "75%                                               696.50                                            \n",
       "max                                              1369.00                                            \n",
       "std                                               386.30                                            \n",
       "\n",
       "       Crude Oil and Natural Gas Rotary Rigs in Operation, Directional Trajectory (Number of Rigs)  \\\n",
       "count                                             407.00                                             \n",
       "mean                                              174.65                                             \n",
       "min                                                15.00                                             \n",
       "25%                                                72.00                                             \n",
       "50%                                               174.00                                             \n",
       "75%                                               236.50                                             \n",
       "max                                               404.00                                             \n",
       "std                                               106.72                                             \n",
       "\n",
       "       Crude Oil and Natural Gas Rotary Rigs in Operation, Vertical Trajectory (Number of Rigs)  \\\n",
       "count                                             407.00                                          \n",
       "mean                                              465.09                                          \n",
       "min                                                 9.00                                          \n",
       "25%                                                72.50                                          \n",
       "50%                                               528.00                                          \n",
       "75%                                               678.50                                          \n",
       "max                                              1041.00                                          \n",
       "std                                               309.19                                          \n",
       "\n",
       "       Crude Oil and Natural Gas Rotary Rigs in Operation, Total (Number of Rigs)  \\\n",
       "count                                             623.00                            \n",
       "mean                                             1344.98                            \n",
       "min                                               250.00                            \n",
       "25%                                               795.50                            \n",
       "50%                                              1068.00                            \n",
       "75%                                              1783.50                            \n",
       "max                                              4521.00                            \n",
       "std                                               744.19                            \n",
       "\n",
       "       Active Well Service Rig Count (Number of Rigs)  \\\n",
       "count                                          591.00   \n",
       "mean                                          2627.98   \n",
       "min                                            456.00   \n",
       "25%                                           1994.00   \n",
       "50%                                           2549.00   \n",
       "75%                                           3340.50   \n",
       "max                                           5367.00   \n",
       "std                                           1006.08   \n",
       "\n",
       "                                time  \n",
       "count                            623  \n",
       "mean   1998-11-30 23:43:49.213483136  \n",
       "min              1973-01-01 00:00:00  \n",
       "25%              1985-12-16 12:00:00  \n",
       "50%              1998-12-01 00:00:00  \n",
       "75%              2011-11-16 00:00:00  \n",
       "max              2024-11-01 00:00:00  \n",
       "std                              NaN  "
      ]
     },
     "execution_count": 60,
     "metadata": {},
     "output_type": "execute_result"
    }
   ],
   "source": [
    "dr.describe()"
   ]
  },
  {
   "cell_type": "markdown",
   "metadata": {},
   "source": [
    "3. Let's look at `Active Well Service Rig Count (Number of Rigs)`, which is the total number of rigs over time. Make a line plot of this time series. Describe what you see.\n"
   ]
  },
  {
   "cell_type": "code",
   "execution_count": 62,
   "metadata": {},
   "outputs": [
    {
     "data": {
      "image/png": "[encoded data removed]",
      "text/plain": [
       "<Figure size 640x480 with 1 Axes>"
      ]
     },
     "metadata": {},
     "output_type": "display_data"
    }
   ],
   "source": [
    "var = 'Active Well Service Rig Count (Number of Rigs)'\n",
    "sns.lineplot(data=dr, x='time', y=var)\n",
    "plt.show()"
   ]
  },
  {
   "cell_type": "markdown",
   "metadata": {},
   "source": [
    "4. Instead of levels, we want to look at change over time. Compute the first difference of  `Active Well Service Rig Count (Number of Rigs)` and plot it over time. Describe what you see.\n"
   ]
  },
  {
   "cell_type": "code",
   "execution_count": 66,
   "metadata": {},
   "outputs": [
    {
     "data": {
      "image/png": "[encoded data removed]",
      "text/plain": [
       "<Figure size 640x480 with 1 Axes>"
      ]
     },
     "metadata": {},
     "output_type": "display_data"
    }
   ],
   "source": [
    "diff = dr[var].diff()\n",
    "\n",
    "fig = sns.histplot(diff)\n",
    "fig.set(title='Differences')\n",
    "plt.show()"
   ]
  },
  {
   "cell_type": "markdown",
   "metadata": {},
   "source": [
    "The first difference histogram has a longer tail to the left (negative net change), but it looks like this is from a few outliers and overall it has a minimal spread with even distribution centered around zero. Therefore, although there were several occasions of large drops in the number of active rigs, overall the general trend is minimal change. "
   ]
  },
  {
   "cell_type": "markdown",
   "metadata": {},
   "source": [
    "5. The first two columns are the number of onshore and offshore rigs, respectively. Melt these columns and plot the resulting series."
   ]
  },
  {
   "cell_type": "code",
   "execution_count": 76,
   "metadata": {},
   "outputs": [
    {
     "data": {
      "text/html": [
       "<div>\n",
       "<style scoped>\n",
       "    .dataframe tbody tr th:only-of-type {\n",
       "        vertical-align: middle;\n",
       "    }\n",
       "\n",
       "    .dataframe tbody tr th {\n",
       "        vertical-align: top;\n",
       "    }\n",
       "\n",
       "    .dataframe thead th {\n",
       "        text-align: right;\n",
       "    }\n",
       "</style>\n",
       "<table border=\"1\" class=\"dataframe\">\n",
       "  <thead>\n",
       "    <tr style=\"text-align: right;\">\n",
       "      <th></th>\n",
       "      <th>time</th>\n",
       "      <th>Rig_Type</th>\n",
       "      <th>Number_of_Rigs</th>\n",
       "    </tr>\n",
       "  </thead>\n",
       "  <tbody>\n",
       "    <tr>\n",
       "      <th>0</th>\n",
       "      <td>1973-01-01</td>\n",
       "      <td>Crude Oil and Natural Gas Rotary Rigs in Opera...</td>\n",
       "      <td>1120</td>\n",
       "    </tr>\n",
       "    <tr>\n",
       "      <th>1</th>\n",
       "      <td>1973-02-01</td>\n",
       "      <td>Crude Oil and Natural Gas Rotary Rigs in Opera...</td>\n",
       "      <td>1037</td>\n",
       "    </tr>\n",
       "    <tr>\n",
       "      <th>2</th>\n",
       "      <td>1973-03-01</td>\n",
       "      <td>Crude Oil and Natural Gas Rotary Rigs in Opera...</td>\n",
       "      <td>959</td>\n",
       "    </tr>\n",
       "    <tr>\n",
       "      <th>3</th>\n",
       "      <td>1973-04-01</td>\n",
       "      <td>Crude Oil and Natural Gas Rotary Rigs in Opera...</td>\n",
       "      <td>914</td>\n",
       "    </tr>\n",
       "    <tr>\n",
       "      <th>4</th>\n",
       "      <td>1973-05-01</td>\n",
       "      <td>Crude Oil and Natural Gas Rotary Rigs in Opera...</td>\n",
       "      <td>974</td>\n",
       "    </tr>\n",
       "  </tbody>\n",
       "</table>\n",
       "</div>"
      ],
      "text/plain": [
       "        time                                           Rig_Type  \\\n",
       "0 1973-01-01  Crude Oil and Natural Gas Rotary Rigs in Opera...   \n",
       "1 1973-02-01  Crude Oil and Natural Gas Rotary Rigs in Opera...   \n",
       "2 1973-03-01  Crude Oil and Natural Gas Rotary Rigs in Opera...   \n",
       "3 1973-04-01  Crude Oil and Natural Gas Rotary Rigs in Opera...   \n",
       "4 1973-05-01  Crude Oil and Natural Gas Rotary Rigs in Opera...   \n",
       "\n",
       "   Number_of_Rigs  \n",
       "0            1120  \n",
       "1            1037  \n",
       "2             959  \n",
       "3             914  \n",
       "4             974  "
      ]
     },
     "execution_count": 76,
     "metadata": {},
     "output_type": "execute_result"
    }
   ],
   "source": [
    "on = 'Crude Oil and Natural Gas Rotary Rigs in Operation, Onshore (Number of Rigs)'\n",
    "off = 'Crude Oil and Natural Gas Rotary Rigs in Operation, Offshore (Number of Rigs)'\n",
    "melted = pd.melt(dr, id_vars=['time'], value_vars=[on, off],\n",
    "                    var_name='Rig_Type', value_name='Number_of_Rigs')\n",
    "\n",
    "melted.head()\n"
   ]
  },
  {
   "cell_type": "code",
   "execution_count": 77,
   "metadata": {},
   "outputs": [
    {
     "data": {
      "text/plain": [
       "[Text(0.5, 1.0, 'On- & Offshore Rigs'),\n",
       " Text(0.5, 0, 'Year'),\n",
       " Text(0, 0.5, 'Proportion')]"
      ]
     },
     "execution_count": 77,
     "metadata": {},
     "output_type": "execute_result"
    },
    {
     "data": {
      "image/png": "[encoded data removed]",
      "text/plain": [
       "<Figure size 640x480 with 1 Axes>"
      ]
     },
     "metadata": {},
     "output_type": "display_data"
    }
   ],
   "source": [
    "fig = sns.lineplot(data=melted,x='time',y='Number_of_Rigs',hue='Rig_Type')\n",
    "fig.set(title='On- & Offshore Rigs',xlabel='Year',ylabel='Proportion')"
   ]
  },
  {
   "cell_type": "markdown",
   "metadata": {},
   "source": [
    "Resulting plot shows that most of the variation is due to onshore rigs, not offshore."
   ]
  }
 ],
 "metadata": {
  "kernelspec": {
   "display_name": ".venv",
   "language": "python",
   "name": "python3"
  },
  "language_info": {
   "codemirror_mode": {
    "name": "ipython",
    "version": 3
   },
   "file_extension": ".py",
   "mimetype": "text/x-python",
   "name": "python",
   "nbconvert_exporter": "python",
   "pygments_lexer": "ipython3",
   "version": "3.13.1"
  }
 },
 "nbformat": 4,
 "nbformat_minor": 2
}
